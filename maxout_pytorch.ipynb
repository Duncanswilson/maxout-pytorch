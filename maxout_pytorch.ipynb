{
 "cells": [
  {
   "cell_type": "markdown",
   "metadata": {},
   "source": [
    "## Maxout Networks in Pytorch "
   ]
  },
  {
   "cell_type": "markdown",
   "metadata": {},
   "source": [
    "This notebook is an implementation of maxout units (https://arxiv.org/abs/1302.4389) in Pytorch. My primary motivation of this was to ensure that I actually understood what maxout units were, as I found most explanations available quite opaque or incorrect! "
   ]
  },
  {
   "cell_type": "code",
   "execution_count": 39,
   "metadata": {},
   "outputs": [],
   "source": [
    "import numpy as np \n",
    "import torch \n",
    "import torch.nn as nn \n",
    "from torchvision import datasets, transforms \n",
    "from torch.autograd import Variable \n",
    "from torch.nn import init\n",
    "import torch.nn.functional as F\n",
    "import matplotlib.pyplot as plt \n",
    "import seaborn as sns\n",
    "%matplotlib inline "
   ]
  },
  {
   "cell_type": "markdown",
   "metadata": {},
   "source": [
    "Below we define a custom object so we can have models which contain objects which behave like lists while holding multiple modules. This is needed as we're going to store lists of layers per maxout unit. "
   ]
  },
  {
   "cell_type": "code",
   "execution_count": 19,
   "metadata": {
    "collapsed": true
   },
   "outputs": [],
   "source": [
    "class ListModule(object):\n",
    "    def __init__(self, module, prefix, *args):\n",
    "        self.module = module\n",
    "        self.prefix = prefix\n",
    "        self.num_module = 0\n",
    "        for new_module in args:\n",
    "            self.append(new_module)\n",
    "\n",
    "    def append(self, new_module):\n",
    "        if not isinstance(new_module, nn.Module):\n",
    "            raise ValueError('Not a Module')\n",
    "        else:\n",
    "            self.module.add_module(self.prefix + str(self.num_module), new_module)\n",
    "            self.num_module += 1\n",
    "\n",
    "    def __len__(self):\n",
    "        return self.num_module\n",
    "\n",
    "    def __getitem__(self, i):\n",
    "        if i < 0 or i >= self.num_module:\n",
    "            raise IndexError('Out of bound')\n",
    "        return getattr(self.module, self.prefix + str(i))"
   ]
  },
  {
   "cell_type": "code",
   "execution_count": 3,
   "metadata": {
    "collapsed": true
   },
   "outputs": [],
   "source": [
    "learning_rate = 0.0001\n",
    "batch_size = 50\n",
    "n_epochs = 3\n",
    "cuda = torch.cuda.is_available()"
   ]
  },
  {
   "cell_type": "markdown",
   "metadata": {},
   "source": [
    "The magic normalization numbers below are actually the mean and the std of the training set of MNIST, hardcoded to save compute each run. "
   ]
  },
  {
   "cell_type": "code",
   "execution_count": 4,
   "metadata": {
    "collapsed": true
   },
   "outputs": [],
   "source": [
    "train_loader = torch.utils.data.DataLoader(\n",
    "    datasets.MNIST('../data', train=True, download=True,\n",
    "                   transform=transforms.Compose([\n",
    "                       transforms.ToTensor(),\n",
    "                       transforms.Normalize((0.1307,), (0.3081,))\n",
    "                       ])),\n",
    "                       batch_size=batch_size, shuffle=True)"
   ]
  },
  {
   "cell_type": "code",
   "execution_count": 5,
   "metadata": {
    "collapsed": true
   },
   "outputs": [],
   "source": [
    "test_loader = torch.utils.data.DataLoader(\n",
    "    datasets.MNIST('../data', train=False, transform=transforms.Compose([\n",
    "                       transforms.ToTensor(),\n",
    "                       transforms.Normalize((0.1307,), (0.3081,))\n",
    "                       ])),\n",
    "                       batch_size=batch_size, shuffle=True)"
   ]
  },
  {
   "cell_type": "markdown",
   "metadata": {},
   "source": [
    "### What is Maxout? \n",
    "Maxout is a piece of a deep learning model that sits somewhere between an activation function and a layer. It computes a nonlinearity (namely the max function) but also has learnable parameters. For reference, it is generally considered an activation but I find that terminology troublesome as it forces there to be multiple layers to max over. `¯\\_(ツ)_/¯`\n",
    "\n",
    "In their paper, Goodfellow et. al. describe the maxout activation as: \n",
    "\n",
    "$$h_i = max_{j \\in [1,k]} z_{i,j}$$\n",
    "\n",
    "where $h_i$ is the hidden layer output and $z = x^TW_{\\cdots i,j} + b_{i,j}$ , where $x$ could be the input or the output of the previous layer. \n",
    "\n",
    "\n",
    "I find this description incredibly confusing and for a while I thought that all that you did for maxout was to compute a linear layer, group into k groups, and take the max over those groups. (the use of $k$ in the indices above should give you a hint that this interpretation is wrong) Alas, Karpathy was to the rescue here: http://cs231n.github.io/neural-networks-1/\n",
    "\n",
    "The tldr; is that a maxout unit is an element-wise max _over_ multiple linear (or convolutional/other) layers, so for a maxout layer with two units it is computed, like so: \n",
    "$max\\{W_1^Tx +b_1, W_2^Tx + b_2\\}$\n",
    "\n",
    "so in the case where $W_2^Tx+b_2 = 0$ we see that the maxout layer is a ReLU. For other properties about maxout nets, we refer back to Goodfellow's paper. "
   ]
  },
  {
   "cell_type": "markdown",
   "metadata": {},
   "source": [
    "### Define Models \n",
    "Here we define the two classes of models to test the maxout network against. \n",
    "\n",
    "We have an MLP and ConvNet using just ReLU's and the maxout equivalent of those networks. \n",
    "\n",
    "Note that for each layer which uses a maxout we have $lu$ total parameters, where $l$ is the number of parameters per unit and $u$ is the number of units. "
   ]
  },
  {
   "cell_type": "code",
   "execution_count": 6,
   "metadata": {
    "collapsed": true
   },
   "outputs": [],
   "source": [
    "class rectifier_mlp(nn.Module):\n",
    "    def __init__(self):\n",
    "        super(rectifier_mlp, self).__init__()\n",
    "        self.fc1 = nn.Linear(784, 1024)\n",
    "        self.fc2 = nn.Linear(1024, 10)\n",
    "\n",
    "\n",
    "    def forward(self, x): \n",
    "        x = x.view(-1, 784)\n",
    "        x = F.relu(self.fc1(x))\n",
    "        x = F.dropout(x, training=self.training)\n",
    "        x = self.fc2(x)\n",
    "        return F.log_softmax(x)"
   ]
  },
  {
   "cell_type": "code",
   "execution_count": 32,
   "metadata": {},
   "outputs": [],
   "source": [
    "class maxout_mlp(nn.Module):\n",
    "    def __init__(self, num_units=2):\n",
    "        super(maxout_mlp, self).__init__()\n",
    "        self.fc1_list = ListModule(self, \"fc1_\")\n",
    "        self.fc2_list = ListModule(self, \"fc2_\")\n",
    "        for _ in range(num_units):\n",
    "            self.fc1_list.append(nn.Linear(784, 1024))\n",
    "            self.fc2_list.append(nn.Linear(1024, 10))\n",
    "\n",
    "    def forward(self, x): \n",
    "        x = x.view(-1, 784)\n",
    "        x = self.maxout(x, self.fc1_list)\n",
    "        x = F.dropout(x, training=self.training)\n",
    "        x = self.maxout(x, self.fc2_list)\n",
    "        return F.log_softmax(x)\n",
    "\n",
    "    def maxout(self, x, layer_list):\n",
    "        max_output = layer_list[0](x)\n",
    "        for _, layer in enumerate(layer_list, start=1):\n",
    "            max_output = torch.max(max_output, layer(x))\n",
    "        return max_output\n",
    "                            "
   ]
  },
  {
   "cell_type": "code",
   "execution_count": 8,
   "metadata": {
    "collapsed": true
   },
   "outputs": [],
   "source": [
    "class rectifier_conv_net(nn.Module):\n",
    "    def __init__(self):\n",
    "        super(rectifier_conv_net, self).__init__()\n",
    "        self.conv1 = nn.Conv2d(1, 32, 5, padding=2)\n",
    "        self.conv2 = nn.Conv2d(32, 64, 5, padding=2)\n",
    "        self.fc1 = nn.Linear(64*7*7, 1024)\n",
    "        self.fc2 = nn.Linear(1024, 10)\n",
    "\n",
    "\n",
    "    def forward(self, x): \n",
    "        x = F.max_pool2d(F.relu(self.conv1(x)), 2)\n",
    "        x = F.max_pool2d(F.relu(self.conv2(x)), 2)\n",
    "        x = x.view(-1, 64*7*7)\n",
    "        x = F.relu(self.fc1(x))\n",
    "        x = F.dropout(x, training=self.training)\n",
    "        x = self.fc2(x)\n",
    "        return F.log_softmax(x)"
   ]
  },
  {
   "cell_type": "code",
   "execution_count": 9,
   "metadata": {
    "collapsed": true
   },
   "outputs": [],
   "source": [
    "class maxout_conv_net(nn.Module):\n",
    "    def __init__(self, num_units=2):\n",
    "        super(maxout_conv_net, self).__init__()\n",
    "        self.conv1_list = ListModule(self, \"conv1_\")\n",
    "        self.conv2_list = ListModule(self, \"conv2_\")\n",
    "        self.fc1_list = ListModule(self, \"fc1_\")\n",
    "        self.fc2_list = ListModule(self, \"fc2_\")\n",
    "        for _ in range(num_units):\n",
    "            self.conv1_list.append(nn.Conv2d(1, 32, 5, padding=2))\n",
    "            self.conv2_list.append(nn.Conv2d(32, 64, 5, padding=2))\n",
    "            self.fc1_list.append(nn.Linear(64*7*7, 1024))\n",
    "            self.fc2_list.append(nn.Linear(1024, 10))\n",
    "\n",
    "    def forward(self, x): \n",
    "        x = F.max_pool2d(self.maxout(x, self.conv1_list), 2)\n",
    "        x = F.max_pool2d(self.maxout(x, self.conv2_list), 2)\n",
    "        x = x.view(-1, 64*7*7)\n",
    "        x = self.maxout(x, self.fc1_list)\n",
    "        x = F.dropout(x, training=self.training)\n",
    "        x = self.maxout(x, self.fc2_list)\n",
    "        return F.log_softmax(x)\n",
    "\n",
    "    def maxout(self, x, layer_list):\n",
    "        max_output = layer_list[0](x)\n",
    "        for _, layer in enumerate(layer_list, start=1):\n",
    "            max_output = torch.max(max_output, layer(x))\n",
    "        return max_output\n",
    "                            "
   ]
  },
  {
   "cell_type": "code",
   "execution_count": 10,
   "metadata": {
    "collapsed": true
   },
   "outputs": [],
   "source": [
    "def train(epoch,  net, train_loss, train_acc): \n",
    "    optimizer = torch.optim.Adam(net.parameters(), lr=learning_rate)\n",
    "    net.train()\n",
    "    for batch_idx, (data, target) in enumerate(train_loader): \n",
    "        if cuda:\n",
    "            data, target = Variable(data).cuda(0), Variable(target).cuda(0)\n",
    "        else:\n",
    "            data, target = Variable(data), Variable(target)\n",
    "            \n",
    "        optimizer.zero_grad()\n",
    "        output = net(data)\n",
    "        loss = F.cross_entropy(output, target)\n",
    "        train_loss.append(loss.data[0])\n",
    "        loss.backward()\n",
    "        optimizer.step()\n",
    "        prediction = output.data.max(1)[1]\n",
    "        accuracy = prediction.eq(target.data).sum()*1.0/batch_size*100.0 \n",
    "        train_acc.append(accuracy)\n",
    "        if batch_idx % 100 == 0:\n",
    "            print('Train Epoch: {} [{}/{} ({:.0f}%)]\\tLoss: {:.6f}'.format(\n",
    "                epoch, batch_idx * len(data), len(train_loader.dataset),\n",
    "                100. * batch_idx / len(train_loader), loss.data[0]))"
   ]
  },
  {
   "cell_type": "code",
   "execution_count": 11,
   "metadata": {
    "collapsed": true
   },
   "outputs": [],
   "source": [
    "def test(epoch, net):\n",
    "    net.eval()\n",
    "    test_loss = 0\n",
    "    correct = 0\n",
    "    for data, target in test_loader:\n",
    "        if cuda:\n",
    "            data, target = data.cuda(), target.cuda()\n",
    "        data, target = Variable(data, volatile=True), Variable(target)\n",
    "        output = net(data)\n",
    "        test_loss += F.cross_entropy(output, target).data[0]\n",
    "        pred = output.data.max(1)[1] # get the index of the max log-probability\n",
    "        correct += pred.eq(target.data).cpu().sum()\n",
    "\n",
    "    test_loss = test_loss\n",
    "    test_loss /= len(test_loader) # loss function already averages over batch size\n",
    "    print('\\nTest set: Average loss: {:.4f}, Accuracy: {}/{} ({:.0f}%)\\n'.format(\n",
    "        test_loss, correct, len(test_loader.dataset),\n",
    "        100. * correct / len(test_loader.dataset)))"
   ]
  },
  {
   "cell_type": "code",
   "execution_count": 12,
   "metadata": {},
   "outputs": [
    {
     "name": "stdout",
     "output_type": "stream",
     "text": [
      "Train Epoch: 0 [0/60000 (0%)]\tLoss: 2.290519\n",
      "Train Epoch: 0 [5000/60000 (8%)]\tLoss: 0.285147\n",
      "Train Epoch: 0 [10000/60000 (17%)]\tLoss: 0.146821\n",
      "Train Epoch: 0 [15000/60000 (25%)]\tLoss: 0.272205\n",
      "Train Epoch: 0 [20000/60000 (33%)]\tLoss: 0.221471\n",
      "Train Epoch: 0 [25000/60000 (42%)]\tLoss: 0.224038\n",
      "Train Epoch: 0 [30000/60000 (50%)]\tLoss: 0.274867\n",
      "Train Epoch: 0 [35000/60000 (58%)]\tLoss: 0.038073\n",
      "Train Epoch: 0 [40000/60000 (67%)]\tLoss: 0.135521\n",
      "Train Epoch: 0 [45000/60000 (75%)]\tLoss: 0.104026\n",
      "Train Epoch: 0 [50000/60000 (83%)]\tLoss: 0.293587\n",
      "Train Epoch: 0 [55000/60000 (92%)]\tLoss: 0.146798\n",
      "\n",
      "Test set: Average loss: 0.0731, Accuracy: 9766/10000 (98%)\n",
      "\n",
      "Train Epoch: 1 [0/60000 (0%)]\tLoss: 0.049651\n",
      "Train Epoch: 1 [5000/60000 (8%)]\tLoss: 0.025212\n",
      "Train Epoch: 1 [10000/60000 (17%)]\tLoss: 0.130879\n",
      "Train Epoch: 1 [15000/60000 (25%)]\tLoss: 0.078905\n",
      "Train Epoch: 1 [20000/60000 (33%)]\tLoss: 0.039131\n",
      "Train Epoch: 1 [25000/60000 (42%)]\tLoss: 0.010621\n",
      "Train Epoch: 1 [30000/60000 (50%)]\tLoss: 0.037744\n",
      "Train Epoch: 1 [35000/60000 (58%)]\tLoss: 0.075127\n",
      "Train Epoch: 1 [40000/60000 (67%)]\tLoss: 0.070165\n",
      "Train Epoch: 1 [45000/60000 (75%)]\tLoss: 0.045732\n",
      "Train Epoch: 1 [50000/60000 (83%)]\tLoss: 0.037628\n",
      "Train Epoch: 1 [55000/60000 (92%)]\tLoss: 0.069472\n",
      "\n",
      "Test set: Average loss: 0.0409, Accuracy: 9864/10000 (99%)\n",
      "\n",
      "Train Epoch: 2 [0/60000 (0%)]\tLoss: 0.112145\n",
      "Train Epoch: 2 [5000/60000 (8%)]\tLoss: 0.144255\n",
      "Train Epoch: 2 [10000/60000 (17%)]\tLoss: 0.005676\n",
      "Train Epoch: 2 [15000/60000 (25%)]\tLoss: 0.044572\n",
      "Train Epoch: 2 [20000/60000 (33%)]\tLoss: 0.009544\n",
      "Train Epoch: 2 [25000/60000 (42%)]\tLoss: 0.069822\n",
      "Train Epoch: 2 [30000/60000 (50%)]\tLoss: 0.035140\n",
      "Train Epoch: 2 [35000/60000 (58%)]\tLoss: 0.005060\n",
      "Train Epoch: 2 [40000/60000 (67%)]\tLoss: 0.043649\n",
      "Train Epoch: 2 [45000/60000 (75%)]\tLoss: 0.015031\n",
      "Train Epoch: 2 [50000/60000 (83%)]\tLoss: 0.055224\n",
      "Train Epoch: 2 [55000/60000 (92%)]\tLoss: 0.048069\n",
      "\n",
      "Test set: Average loss: 0.0301, Accuracy: 9898/10000 (99%)\n",
      "\n"
     ]
    }
   ],
   "source": [
    "if cuda:\n",
    "    net_relu = rectifier_conv_net().cuda()\n",
    "else:\n",
    "    net_relu = rectifier_conv_net()\n",
    "relu_loss = [] \n",
    "relu_acc = []\n",
    "for epoch in range(n_epochs): \n",
    "    train(epoch, net_relu, relu_loss, relu_acc)\n",
    "    test(epoch, net_relu)"
   ]
  },
  {
   "cell_type": "code",
   "execution_count": 13,
   "metadata": {},
   "outputs": [
    {
     "name": "stdout",
     "output_type": "stream",
     "text": [
      "Train Epoch: 0 [0/60000 (0%)]\tLoss: 2.363012\n",
      "Train Epoch: 0 [5000/60000 (8%)]\tLoss: 0.478533\n",
      "Train Epoch: 0 [10000/60000 (17%)]\tLoss: 0.089672\n",
      "Train Epoch: 0 [15000/60000 (25%)]\tLoss: 0.102352\n",
      "Train Epoch: 0 [20000/60000 (33%)]\tLoss: 0.224029\n",
      "Train Epoch: 0 [25000/60000 (42%)]\tLoss: 0.155579\n",
      "Train Epoch: 0 [30000/60000 (50%)]\tLoss: 0.085204\n",
      "Train Epoch: 0 [35000/60000 (58%)]\tLoss: 0.110757\n",
      "Train Epoch: 0 [40000/60000 (67%)]\tLoss: 0.073194\n",
      "Train Epoch: 0 [45000/60000 (75%)]\tLoss: 0.145176\n",
      "Train Epoch: 0 [50000/60000 (83%)]\tLoss: 0.027566\n",
      "Train Epoch: 0 [55000/60000 (92%)]\tLoss: 0.060530\n",
      "\n",
      "Test set: Average loss: 0.0493, Accuracy: 9836/10000 (98%)\n",
      "\n",
      "Train Epoch: 1 [0/60000 (0%)]\tLoss: 0.097051\n",
      "Train Epoch: 1 [5000/60000 (8%)]\tLoss: 0.011630\n",
      "Train Epoch: 1 [10000/60000 (17%)]\tLoss: 0.023141\n",
      "Train Epoch: 1 [15000/60000 (25%)]\tLoss: 0.032429\n",
      "Train Epoch: 1 [20000/60000 (33%)]\tLoss: 0.120462\n",
      "Train Epoch: 1 [25000/60000 (42%)]\tLoss: 0.072779\n",
      "Train Epoch: 1 [30000/60000 (50%)]\tLoss: 0.118338\n",
      "Train Epoch: 1 [35000/60000 (58%)]\tLoss: 0.020701\n",
      "Train Epoch: 1 [40000/60000 (67%)]\tLoss: 0.038554\n",
      "Train Epoch: 1 [45000/60000 (75%)]\tLoss: 0.041294\n",
      "Train Epoch: 1 [50000/60000 (83%)]\tLoss: 0.005239\n",
      "Train Epoch: 1 [55000/60000 (92%)]\tLoss: 0.012394\n",
      "\n",
      "Test set: Average loss: 0.0345, Accuracy: 9881/10000 (99%)\n",
      "\n",
      "Train Epoch: 2 [0/60000 (0%)]\tLoss: 0.072008\n",
      "Train Epoch: 2 [5000/60000 (8%)]\tLoss: 0.011492\n",
      "Train Epoch: 2 [10000/60000 (17%)]\tLoss: 0.054487\n",
      "Train Epoch: 2 [15000/60000 (25%)]\tLoss: 0.006063\n",
      "Train Epoch: 2 [20000/60000 (33%)]\tLoss: 0.118288\n",
      "Train Epoch: 2 [25000/60000 (42%)]\tLoss: 0.039214\n",
      "Train Epoch: 2 [30000/60000 (50%)]\tLoss: 0.037069\n",
      "Train Epoch: 2 [35000/60000 (58%)]\tLoss: 0.013439\n",
      "Train Epoch: 2 [40000/60000 (67%)]\tLoss: 0.010580\n",
      "Train Epoch: 2 [45000/60000 (75%)]\tLoss: 0.012139\n",
      "Train Epoch: 2 [50000/60000 (83%)]\tLoss: 0.062259\n",
      "Train Epoch: 2 [55000/60000 (92%)]\tLoss: 0.127273\n",
      "\n",
      "Test set: Average loss: 0.0381, Accuracy: 9870/10000 (99%)\n",
      "\n"
     ]
    }
   ],
   "source": [
    "if cuda:\n",
    "    net_maxout = maxout_conv_net(num_units=5).cuda() #this uses 5 \"maxout units\" per \"layer\" \n",
    "else:\n",
    "    net_maxout = maxout_conv_net(num_units=5)\n",
    "maxout_loss = [] \n",
    "maxout_acc = []\n",
    "for epoch in range(n_epochs): \n",
    "    train(epoch, net_maxout, maxout_loss, maxout_acc)\n",
    "    test(epoch, net_maxout)"
   ]
  },
  {
   "cell_type": "code",
   "execution_count": 14,
   "metadata": {
    "scrolled": true
   },
   "outputs": [
    {
     "name": "stdout",
     "output_type": "stream",
     "text": [
      "Train Epoch: 0 [0/60000 (0%)]\tLoss: 2.348691\n",
      "Train Epoch: 0 [5000/60000 (8%)]\tLoss: 0.682529\n",
      "Train Epoch: 0 [10000/60000 (17%)]\tLoss: 0.646795\n",
      "Train Epoch: 0 [15000/60000 (25%)]\tLoss: 0.302137\n",
      "Train Epoch: 0 [20000/60000 (33%)]\tLoss: 0.265129\n",
      "Train Epoch: 0 [25000/60000 (42%)]\tLoss: 0.374851\n",
      "Train Epoch: 0 [30000/60000 (50%)]\tLoss: 0.476626\n",
      "Train Epoch: 0 [35000/60000 (58%)]\tLoss: 0.351321\n",
      "Train Epoch: 0 [40000/60000 (67%)]\tLoss: 0.422480\n",
      "Train Epoch: 0 [45000/60000 (75%)]\tLoss: 0.324298\n",
      "Train Epoch: 0 [50000/60000 (83%)]\tLoss: 0.330992\n",
      "Train Epoch: 0 [55000/60000 (92%)]\tLoss: 0.216023\n",
      "\n",
      "Test set: Average loss: 0.2178, Accuracy: 9364/10000 (94%)\n",
      "\n",
      "Train Epoch: 1 [0/60000 (0%)]\tLoss: 0.397623\n",
      "Train Epoch: 1 [5000/60000 (8%)]\tLoss: 0.346569\n",
      "Train Epoch: 1 [10000/60000 (17%)]\tLoss: 0.124273\n",
      "Train Epoch: 1 [15000/60000 (25%)]\tLoss: 0.188086\n",
      "Train Epoch: 1 [20000/60000 (33%)]\tLoss: 0.086380\n",
      "Train Epoch: 1 [25000/60000 (42%)]\tLoss: 0.271180\n",
      "Train Epoch: 1 [30000/60000 (50%)]\tLoss: 0.160728\n",
      "Train Epoch: 1 [35000/60000 (58%)]\tLoss: 0.398956\n",
      "Train Epoch: 1 [40000/60000 (67%)]\tLoss: 0.136644\n",
      "Train Epoch: 1 [45000/60000 (75%)]\tLoss: 0.100698\n",
      "Train Epoch: 1 [50000/60000 (83%)]\tLoss: 0.144666\n",
      "Train Epoch: 1 [55000/60000 (92%)]\tLoss: 0.105870\n",
      "\n",
      "Test set: Average loss: 0.1531, Accuracy: 9554/10000 (96%)\n",
      "\n",
      "Train Epoch: 2 [0/60000 (0%)]\tLoss: 0.146667\n",
      "Train Epoch: 2 [5000/60000 (8%)]\tLoss: 0.111268\n",
      "Train Epoch: 2 [10000/60000 (17%)]\tLoss: 0.150802\n",
      "Train Epoch: 2 [15000/60000 (25%)]\tLoss: 0.102013\n",
      "Train Epoch: 2 [20000/60000 (33%)]\tLoss: 0.167289\n",
      "Train Epoch: 2 [25000/60000 (42%)]\tLoss: 0.114355\n",
      "Train Epoch: 2 [30000/60000 (50%)]\tLoss: 0.123657\n",
      "Train Epoch: 2 [35000/60000 (58%)]\tLoss: 0.154903\n",
      "Train Epoch: 2 [40000/60000 (67%)]\tLoss: 0.087987\n",
      "Train Epoch: 2 [45000/60000 (75%)]\tLoss: 0.081518\n",
      "Train Epoch: 2 [50000/60000 (83%)]\tLoss: 0.083032\n",
      "Train Epoch: 2 [55000/60000 (92%)]\tLoss: 0.119544\n",
      "\n",
      "Test set: Average loss: 0.1170, Accuracy: 9666/10000 (97%)\n",
      "\n"
     ]
    }
   ],
   "source": [
    "if cuda:\n",
    "    mlp_relu = rectifier_mlp().cuda() \n",
    "else:\n",
    "    mlp_relu = rectifier_mlp()\n",
    "relu_mlp_loss = [] \n",
    "relu_mlp_acc = []\n",
    "for epoch in range(n_epochs): \n",
    "    train(epoch, mlp_relu, relu_mlp_loss, relu_mlp_acc)\n",
    "    test(epoch, mlp_relu)"
   ]
  },
  {
   "cell_type": "code",
   "execution_count": 34,
   "metadata": {
    "scrolled": true
   },
   "outputs": [
    {
     "name": "stdout",
     "output_type": "stream",
     "text": [
      "Train Epoch: 0 [0/60000 (0%)]\tLoss: 3.156196\n",
      "Train Epoch: 0 [5000/60000 (8%)]\tLoss: 0.565568\n",
      "Train Epoch: 0 [10000/60000 (17%)]\tLoss: 0.644320\n",
      "Train Epoch: 0 [15000/60000 (25%)]\tLoss: 0.355569\n",
      "Train Epoch: 0 [20000/60000 (33%)]\tLoss: 0.463959\n",
      "Train Epoch: 0 [25000/60000 (42%)]\tLoss: 0.441238\n",
      "Train Epoch: 0 [30000/60000 (50%)]\tLoss: 0.456167\n",
      "Train Epoch: 0 [35000/60000 (58%)]\tLoss: 0.370821\n",
      "Train Epoch: 0 [40000/60000 (67%)]\tLoss: 0.294294\n",
      "Train Epoch: 0 [45000/60000 (75%)]\tLoss: 0.256920\n",
      "Train Epoch: 0 [50000/60000 (83%)]\tLoss: 0.238175\n",
      "Train Epoch: 0 [55000/60000 (92%)]\tLoss: 0.527092\n",
      "\n",
      "Test set: Average loss: 0.5914, Accuracy: 9490/10000 (95%)\n",
      "\n",
      "Train Epoch: 1 [0/60000 (0%)]\tLoss: 0.281222\n",
      "Train Epoch: 1 [5000/60000 (8%)]\tLoss: 0.229687\n",
      "Train Epoch: 1 [10000/60000 (17%)]\tLoss: 0.449179\n",
      "Train Epoch: 1 [15000/60000 (25%)]\tLoss: 0.501339\n",
      "Train Epoch: 1 [20000/60000 (33%)]\tLoss: 0.267238\n",
      "Train Epoch: 1 [25000/60000 (42%)]\tLoss: 0.406091\n",
      "Train Epoch: 1 [30000/60000 (50%)]\tLoss: 0.285968\n",
      "Train Epoch: 1 [35000/60000 (58%)]\tLoss: 0.470900\n",
      "Train Epoch: 1 [40000/60000 (67%)]\tLoss: 0.226877\n",
      "Train Epoch: 1 [45000/60000 (75%)]\tLoss: 0.414314\n",
      "Train Epoch: 1 [50000/60000 (83%)]\tLoss: 0.300500\n",
      "Train Epoch: 1 [55000/60000 (92%)]\tLoss: 0.258165\n",
      "\n",
      "Test set: Average loss: 0.4473, Accuracy: 9633/10000 (96%)\n",
      "\n",
      "Train Epoch: 2 [0/60000 (0%)]\tLoss: 0.435306\n",
      "Train Epoch: 2 [5000/60000 (8%)]\tLoss: 0.141389\n",
      "Train Epoch: 2 [10000/60000 (17%)]\tLoss: 0.276851\n",
      "Train Epoch: 2 [15000/60000 (25%)]\tLoss: 0.212474\n",
      "Train Epoch: 2 [20000/60000 (33%)]\tLoss: 0.321834\n",
      "Train Epoch: 2 [25000/60000 (42%)]\tLoss: 0.121022\n",
      "Train Epoch: 2 [30000/60000 (50%)]\tLoss: 0.233975\n",
      "Train Epoch: 2 [35000/60000 (58%)]\tLoss: 0.367659\n",
      "Train Epoch: 2 [40000/60000 (67%)]\tLoss: 0.370711\n",
      "Train Epoch: 2 [45000/60000 (75%)]\tLoss: 0.255677\n",
      "Train Epoch: 2 [50000/60000 (83%)]\tLoss: 0.080479\n",
      "Train Epoch: 2 [55000/60000 (92%)]\tLoss: 0.393202\n",
      "\n",
      "Test set: Average loss: 0.3117, Accuracy: 9689/10000 (97%)\n",
      "\n"
     ]
    }
   ],
   "source": [
    "if cuda:\n",
    "    mlp_maxout = maxout_mlp(num_units=5).cuda() \n",
    "else:\n",
    "    mlp_maxout = maxout_mlp(num_units=5)\n",
    "maxout_mlp_loss = [] \n",
    "maxout_mlp_acc = []\n",
    "for epoch in range(n_epochs): \n",
    "    train(epoch, mlp_maxout, maxout_mlp_loss, maxout_mlp_acc)\n",
    "    test(epoch, mlp_maxout)"
   ]
  },
  {
   "attachments": {},
   "cell_type": "markdown",
   "metadata": {},
   "source": [
    "## Plots! \n",
    "Here I show the accuracy and loss of both the MLP and the ConvNet versions of the ReLU and maxout nets. \n",
    "\n",
    "These plots aren't incredibly informative as MNIST is so easy that both nets do very well quickly. That said, it is clear from the plots and numbers above that the maxout network is doing better than the ReLU net. "
   ]
  },
  {
   "cell_type": "code",
   "execution_count": 41,
   "metadata": {},
   "outputs": [
    {
     "data": {
      "text/plain": [
       "<matplotlib.legend.Legend at 0x7fabc4065a10>"
      ]
     },
     "execution_count": 41,
     "metadata": {},
     "output_type": "execute_result"
    },
    {
     "name": "stderr",
     "output_type": "stream",
     "text": [
      "/cse/home/duncanw/summer/env/local/lib/python2.7/site-packages/matplotlib/font_manager.py:1297: UserWarning: findfont: Font family [u'sans-serif'] not found. Falling back to DejaVu Sans\n",
      "  (prop.get_family(), self.defaultFamily[fontext]))\n"
     ]
    },
    {
     "data": {
      "image/png": "[encoded data removed]",
      "text/plain": [
       "<matplotlib.figure.Figure at 0x7fabc40f2490>"
      ]
     },
     "metadata": {},
     "output_type": "display_data"
    }
   ],
   "source": [
    "sns.set_context(\"paper\")\n",
    "plot1, = plt.plot(maxout_mlp_loss, label='maxout_mlp')\n",
    "plot2, = plt.plot(relu_mlp_loss, label='relu_mlp')\n",
    "plt.legend(handles=[plot1, plot2])\n"
   ]
  },
  {
   "cell_type": "code",
   "execution_count": 42,
   "metadata": {},
   "outputs": [
    {
     "data": {
      "text/plain": [
       "<matplotlib.legend.Legend at 0x7fabad939f50>"
      ]
     },
     "execution_count": 42,
     "metadata": {},
     "output_type": "execute_result"
    },
    {
     "data": {
      "image/png": "[encoded data removed]",
      "text/plain": [
       "<matplotlib.figure.Figure at 0x7fabc415db90>"
      ]
     },
     "metadata": {},
     "output_type": "display_data"
    }
   ],
   "source": [
    "plot1, = plt.plot(np.arange(len(maxout_mlp_acc)), maxout_mlp_acc, label='maxout_conv')\n",
    "plot2, = plt.plot(np.arange(len(relu_mlp_acc)), relu_mlp_acc, label='relu_conv')\n",
    "plt.legend(handles=[plot1, plot2])\n"
   ]
  },
  {
   "attachments": {},
   "cell_type": "markdown",
   "metadata": {},
   "source": [
    "## Conclusion \n",
    "\n",
    "Maxout units are cool! I'm interested to see how much of an improvement these make on lower dimensional linear layers at the end of large convolutional nets and will be testing that in the coming weeks. The lack of saturation might help gradients back prop, while not requiring that you have many times more parameters for you entire model. \n",
    "\n",
    "This work also made me realize viscerally how important clear explanations are! There are *so many* incorrect implementations that you can find online of maxout units, so hopefully this will serve as a guide for people who were in my position a couple of days ago. "
   ]
  },
  {
   "cell_type": "markdown",
   "metadata": {},
   "source": []
  },
  {
   "cell_type": "markdown",
   "metadata": {},
   "source": [
    "### References \n",
    "- https://arxiv.org/pdf/1302.4389.pdf (original paper) \n",
    "- http://cs231n.github.io/neural-networks-1/ (Karpathy to the rescue)\n",
    "- http://www.simon-hohberg.de/2015/07/19/maxout.html (really helpful visualizations) \n",
    "- tons of Pytorch forum posts, thanks y'all "
   ]
  },
  {
   "cell_type": "code",
   "execution_count": null,
   "metadata": {
    "collapsed": true
   },
   "outputs": [],
   "source": []
  }
 ],
 "metadata": {
  "kernelspec": {
   "display_name": "Python 2",
   "language": "python",
   "name": "python2"
  },
  "language_info": {
   "codemirror_mode": {
    "name": "ipython",
    "version": 2
   },
   "file_extension": ".py",
   "mimetype": "text/x-python",
   "name": "python",
   "nbconvert_exporter": "python",
   "pygments_lexer": "ipython2",
   "version": "2.7.12"
  }
 },
 "nbformat": 4,
 "nbformat_minor": 2
}
